{
  "nbformat": 4,
  "nbformat_minor": 0,
  "metadata": {
    "colab": {
      "name": "Assignment 1",
      "provenance": [],
      "include_colab_link": true
    },
    "kernelspec": {
      "name": "python3",
      "display_name": "Python 3"
    },
    "language_info": {
      "name": "python"
    }
  },
  "cells": [
    {
      "cell_type": "markdown",
      "metadata": {
        "id": "view-in-github",
        "colab_type": "text"
      },
      "source": [
        "<a href=\"https://colab.research.google.com/github/nnaehr/Asignment-Nadiya-/blob/main/Assignment1-nnaehr.ipynb\" target=\"_parent\"><img src=\"https://colab.research.google.com/assets/colab-badge.svg\" alt=\"Open In Colab\"/></a>"
      ]
    },
    {
      "cell_type": "markdown",
      "metadata": {
        "id": "ahbTW1_f4AI5"
      },
      "source": [
        "#[Introduction to Python for Science and Engineering](https://www.taylorfrancis.com/books/mono/10.1201/9780429506413/introduction-python-science-engineering-david-pine)\n",
        "\n",
        "###The following exercises were reproduced from David Pine's Python Manual: [chapter 2: Launching Python](https://www.taylorfrancis.com/chapters/mono/10.1201/9780429506413-2/launching-python-david-pine) and adapted and extended by Paul McNulty and Marc Gershow\n",
        "[previous version of manual, accessible without library access](https://physics.nyu.edu/pine/pymanual/html/pymanMaster.html)\n",
        "\n",
        "[previous version of chapter 2](https://physics.nyu.edu/pine/pymanual/html/chap2/chap2_basics.html)"
      ]
    },
    {
      "cell_type": "code",
      "metadata": {
        "id": "0vmwmUzsjY6j"
      },
      "source": [
        "##RUN THIS CODE BLOCK FIRST - it brings in functions like sin, cos, log, ...\n",
        "#in the future, we'll do things slightly differently to make your code more robust and portable...\n",
        "from numpy import *"
      ],
      "execution_count": 1,
      "outputs": []
    },
    {
      "cell_type": "markdown",
      "metadata": {
        "id": "AY3ov0Ni4yTV"
      },
      "source": [
        "##2.12.1\n",
        "\n",
        "A ball is thrown vertically up in the air from a height $h_0$ above the ground at an initial velocity $v_0$. Its subsequent height $h$ and velocity $v$ are given by the equations\n",
        "\n",
        "$h = h_0 + v_0 t - \\frac{1}{2}gt^2$\n",
        "\n",
        "$v = v_0 - gt$\n",
        "\n",
        "where $g=9.8$ is the acceleration due to gravity in m/s$^2$. Write code that finds the height $h$ and velocity $v$ at a time $t$ after the ball is thrown. Start by setting $h_0=1.2$ (meters) and $v_0 = 5.4$ (m/s) and have your code print out the values of height and velocity (see _[Note about printing](https://physics.nyu.edu/pine/pymanual/html/chap2/chap2_basics.html#printnote)_). First print the height and velocity after 0.5 seconds. Then add more code to find them after 2.0 seconds.\n",
        "\n",
        "When you execute the code block you write below, there should be 4 numbers output, each on its own line. If you want to be fancy, you could make the script write something like\n",
        "\n",
        "h(0.5) = 2.7\n",
        "\n",
        "but\n",
        "\n",
        "2.7\n",
        "\n",
        "would also be fine, as would\n",
        "\n",
        "2.675000000\n",
        "\n",
        "In other words, we don't care how your answer is formatted (for now). You will probably find it's easiest to cut and paste a large portion of your answer to the t = 0.5 section to calculate the t = 2.0 answer. *What code do you have to recopy and what stays the same?* This is OK for now, but at the end of the assingment you'll learn a better way to make your code reusable"
      ]
    },
    {
      "cell_type": "code",
      "metadata": {
        "id": "aDl-k0Fk2eb4",
        "outputId": "72c4c61a-981d-4ecb-9556-356b6973ed68",
        "colab": {
          "base_uri": "https://localhost:8080/"
        }
      },
      "source": [
        "##USE THIS CODE BLOCK TO COMPLETE EXERCISE 2.12.1##\n",
        "h0=1.2\n",
        "v0=5.4\n",
        "\n",
        "g=9.81\n",
        "t=0.5\n",
        "height = h0+(v0*t)-((0.5*g)*(t ** 2.0))\n",
        "vel = v0-g*t\n",
        "print(str(round(height,3)) + \"m\")\n",
        "print(str(round(vel,3))+ \"m/s\")\n",
        "\n",
        "t=2\n",
        "height = h0+(v0*t)-((0.5*g)*(t ** 2.0))\n",
        "vel = v0-g*t\n",
        "print(str(round(height,3)) + \"m\")\n",
        "print(str(round(vel,3))+ \"m/s\")"
      ],
      "execution_count": 89,
      "outputs": [
        {
          "output_type": "stream",
          "name": "stdout",
          "text": [
            "2.674m\n",
            "0.495m/s\n",
            "-7.62m\n",
            "-14.22m/s\n"
          ]
        }
      ]
    },
    {
      "cell_type": "markdown",
      "metadata": {
        "id": "_2EqELbY8b7X"
      },
      "source": [
        "##2.12.2\n",
        "\n",
        "Write a script that defines the variables $V_0 = 10$, $a=2.5$, and $z=4\\frac{1}{3}$, and then evaluates the expression\n",
        "\n",
        "$V = V_0 \\left(1-\\frac{z}{\\sqrt{a^2 + z^2}}\\right)$\n",
        "\n",
        "Then find $V$ for $z=8\\frac{2}{3}$ and print it out (see _[Note about printing](https://physics.nyu.edu/pine/pymanual/html/chap2/chap2_basics.html#printnote)_). Then find $V$ for $z=13$ by changing the value of $z$ in your script.\n",
        "\n",
        "Again, you don't have to worry about how your answer is formatted"
      ]
    },
    {
      "cell_type": "code",
      "metadata": {
        "id": "Ogchuuc19T0K",
        "outputId": "bdb93979-db27-4510-c9ff-eb0b9591751d",
        "colab": {
          "base_uri": "https://localhost:8080/"
        }
      },
      "source": [
        "##USE THIS CODE BLOCK TO COMPLETE EXERCISE 2.12.2##\n",
        "V0=10.\n",
        "a=2.5\n",
        "z=4 +(1/3)\n",
        "print(\"V0=\"+str(V0),\"a=\"+str(a),\"z=\"+str(round(z,2)))\n",
        "\n",
        "V= V0*(1- z/(sqrt((a**2)+(z**2))))\n",
        "print(round(V,3))\n",
        "\n",
        "z=8+2/3\n",
        "V= V0*(1- z/(sqrt((a**2)+(z**2))))\n",
        "print(round(V,3))\n",
        "\n",
        "z=13\n",
        "V= V0*(1- z/(sqrt((a**2)+(z**2))))\n",
        "print(round(V,3))"
      ],
      "execution_count": 93,
      "outputs": [
        {
          "output_type": "stream",
          "name": "stdout",
          "text": [
            "V0=10.0 a=2.5 z=4.33\n",
            "1.338\n",
            "0.392\n",
            "0.18\n"
          ]
        }
      ]
    },
    {
      "cell_type": "markdown",
      "metadata": {
        "id": "xAEZpywo9aCz"
      },
      "source": [
        "##2.12.3\n",
        "\n",
        "In the code block below, write code that calculates the following expressions:\n",
        "\n",
        "1. $a = \\frac{2 + e^{2.8}}{\\sqrt{13}-2}$\n",
        "1. $b = \\frac{1 - \\left(1 + \\ln{2}\\right)^{-3.5}}{1+\\sqrt{5}}$\n",
        "1. $c = \\sin{\\left(\\frac{2-\\sqrt{2}}{2+\\sqrt{2}}\\right)}$\n",
        "\n",
        "After running this code block, typing $a$, $b$, or $c$ in the next code block, followed by shift+return should yield the value of the expressions in (a), (b), or (c), respectively."
      ]
    },
    {
      "cell_type": "code",
      "metadata": {
        "id": "Q9kTXVhI-xwB",
        "outputId": "899f46af-4c92-400a-e769-6511dba3a760",
        "colab": {
          "base_uri": "https://localhost:8080/"
        }
      },
      "source": [
        "##USE THIS CODE BLOCK TO COMPLETE EXERCISE 2.12.3##\n",
        "d1=sqrt(13)-2\n",
        "a=(2+e**2.8)/d1\n",
        "\n",
        "d2=1+sqrt(5)\n",
        "b=(1-(1+log(2))**-3.5)/d2\n",
        "\n",
        "d3=2+sqrt(2)\n",
        "c=sin((2-sqrt(2))/d3)\n"
      ],
      "execution_count": 78,
      "outputs": [
        {
          "output_type": "stream",
          "name": "stdout",
          "text": [
            "1.0\n"
          ]
        }
      ]
    },
    {
      "cell_type": "code",
      "metadata": {
        "id": "k1dF3p4ylItJ",
        "outputId": "dd3daccc-4471-4584-c21a-4eb8093b729f",
        "colab": {
          "base_uri": "https://localhost:8080/"
        }
      },
      "source": [
        "##USE THIS CODE BLOCK TO TEST YOUR ANSWER##\n",
        "print(a,b,c)"
      ],
      "execution_count": 113,
      "outputs": [
        {
          "output_type": "stream",
          "name": "stdout",
          "text": [
            "2.5 0.26008973689431575 0.17073234104506005\n"
          ]
        }
      ]
    },
    {
      "cell_type": "markdown",
      "metadata": {
        "id": "g4z-30W2-7ql"
      },
      "source": [
        "##2.12.4\n",
        "\n",
        "A quadratic equation with the general form\n",
        "\n",
        "$ax^2 + bx + c = 0$\n",
        "\n",
        "has two solutions given by the quadratic formula\n",
        "\n",
        "$x = \\frac{-b \\pm \\sqrt{b^2 - 4ac}}{2a}$.\n",
        "\n",
        "1. Given $a$, $b$, and $c$ as inputs, write code that gives the numerical values of the two solutions. Write the constants $a$, $b$, and $c$ as floats, and show that your script gives the correct solutions for a few test cases when the solutions are real numbers, that is, when the discriminant $b^2-4ac\\geq 0$. Use the `print` function in your script, discussed at the end of Section 2.8.1 _[Scripting Example 1](https://physics.nyu.edu/pine/pymanual/html/chap2/chap2_basics.html#chap2-scriptexmp1)_, to print out your two solutions.\n",
        "1. Written this way, however, your script gives an error message when the solutions are complex. For example, see what happens when $a=1$, $b=2$, and $c=3$. You can fix this using statements in your script like $a = a+0j$ after setting $a$ to some float value. Thus, you can make the script work for any set of real inputs for $a$, $b$, and $c$. Again, use the `print` function to print out your two solutions."
      ]
    },
    {
      "cell_type": "code",
      "metadata": {
        "id": "r-5EIrnNCZGm",
        "outputId": "bbe62682-ed07-4357-e004-6bb8869969b1",
        "colab": {
          "base_uri": "https://localhost:8080/"
        }
      },
      "source": [
        "##USE THIS CODE BLOCK TO COMPLETE EXERCISE 2.12.4##\n",
        "import cmath\n",
        "a = 1.\n",
        "b = -4.\n",
        "c = 3.\n",
        "#get discriminant\n",
        "disc = b**2 - 4*a*c\n",
        "xpos= ((-b) + sqrt(disc))/2*a\n",
        "xneg= ((-b) - sqrt(disc))/2*a\n",
        "\n",
        "print(xpos,\",\",xneg)\n",
        "\n",
        "a = 1. +0j\n",
        "b = 2.+0j\n",
        "c = 3. +0j\n",
        "\n",
        "disc = b**2. - 4.*a*c\n",
        "xpos = ((-b) + cmath.sqrt(disc)) / (2. * a)\n",
        "xneg = ((-b) - cmath.sqrt(disc)) / (2. * a)\n",
        "\n",
        "print(xpos,xneg)\n",
        "##write your code to print the results"
      ],
      "execution_count": 146,
      "outputs": [
        {
          "output_type": "stream",
          "name": "stdout",
          "text": [
            "3.0 , 1.0\n",
            "(-1+1.4142135623730951j) (-1-1.4142135623730951j)\n"
          ]
        }
      ]
    },
    {
      "cell_type": "markdown",
      "metadata": {
        "id": "GAG8o-bFl3z5"
      },
      "source": [
        "#LOOKING AHEAD: FUNCTIONS\n",
        "\n",
        "It sure is a pain having to cut and paste or retype the same code over and over again, and it makes it really easy to make mistakes; what if you didn't type in a value of a in 2.12.4? The computer would happily use the value you calculated in 2.12.3 earlier.\n",
        "\n",
        "**Functions** make your code reusable! The Pine manual introduces functions very late ([in chapter 7](https://www.taylorfrancis.com/chapters/mono/10.1201/9780429506413-7/functions-david-pine)) compared to most books.\n",
        "\n",
        "Let's look at redoing 2.12.4 using a function\n",
        "\n"
      ]
    },
    {
      "cell_type": "code",
      "metadata": {
        "colab": {
          "base_uri": "https://localhost:8080/"
        },
        "id": "ENAUMSDRlVSh",
        "outputId": "49544f1e-6342-45e6-a60d-b31649ac42dd"
      },
      "source": [
        "def printQuadraticSolution(a,b,c):\n",
        "  a = a+0j #make the number complex to allow for complex solutions\n",
        "  x1 = (-b + sqrt(b**2 - 4*a*c))/(2*a)\n",
        "  x2 = (-b - sqrt(b**2 - 4*a*c))/(2*a)\n",
        "  print(\"The solutions are {} and {}\".format(x1,x2))\n",
        "\n",
        "printQuadraticSolution(1,2,3)\n",
        "printQuadraticSolution(1, 2, 1)"
      ],
      "execution_count": 147,
      "outputs": [
        {
          "output_type": "stream",
          "name": "stdout",
          "text": [
            "The solutions are (-1+1.4142135623730951j) and (-1-1.4142135623730951j)\n",
            "The solutions are (-1+0j) and (-1+0j)\n"
          ]
        }
      ]
    },
    {
      "cell_type": "markdown",
      "metadata": {
        "id": "7YwAtxlSsltz"
      },
      "source": [
        "The function definition looks like this\n",
        "  1. the keyword def (for define) that tells you you're about to write a function\n",
        "  2. the name of the function ( \"printQuadraticSolution\" )\n",
        "  3. the arguments to the function (a, b, c) - what you will \"pass\" to the function to give it the information it needs to know to run\n",
        "  4. a colon : which has to be there as the last part of the first line\n",
        "  5. the rest of the code, which is all **indented**. Python uses indentation to say what is part of the function and what isn't\n",
        "\n",
        "  Now please fix the line \"x2 = ....\" above to calculate the other solution, then test it out with a few new values below"
      ]
    },
    {
      "cell_type": "code",
      "metadata": {
        "id": "nsS-yLb6sk89",
        "outputId": "33be66e0-96ba-4bc3-f83d-363b4e1203c3",
        "colab": {
          "base_uri": "https://localhost:8080/"
        }
      },
      "source": [
        "printQuadraticSolution(4,6,7)\n",
        "printQuadraticSolution(4,-6,2)\n",
        "printQuadraticSolution(4j,-6,2)"
      ],
      "execution_count": 152,
      "outputs": [
        {
          "output_type": "stream",
          "name": "stdout",
          "text": [
            "The solutions are (-0.75+1.0897247358851685j) and (-0.75-1.0897247358851685j)\n",
            "The solutions are (1+0j) and (0.5+0j)\n",
            "The solutions are (-0.30830152543777534-1.560894463285611j) and (0.30830152543777534+0.0608944632856111j)\n"
          ]
        }
      ]
    },
    {
      "cell_type": "markdown",
      "metadata": {
        "id": "Wy1Kh9KTMTfI"
      },
      "source": [
        "##Functions can return results\n",
        "\n",
        "When you type y = sin(x), you are calling a function ( sin ). You pass a value to the function ( x ) and you get something back, the sine of x, in return. When a function **returns** a value, you use the keyword **return** at the **end** of the function to say what it is\n",
        "\n",
        "In Python a function can return multiple values.\n",
        "\n",
        "For instance, instead of printing out the two solutions to the quadratic equation, we could write a function that **returns** them to us to use later"
      ]
    },
    {
      "cell_type": "code",
      "metadata": {
        "colab": {
          "base_uri": "https://localhost:8080/"
        },
        "id": "c4x_uiYdNczN",
        "outputId": "282045af-9d6c-4114-88a9-02b5349d4305"
      },
      "source": [
        "def getQuadraticSolution(a,b,c):\n",
        "  a = a+0j #make the number complex to allow for complex solutions\n",
        "  x1 = (-b + sqrt(b**2 - 4*a*c))/(2*a)\n",
        "  x2 = \"You need to write this line\"\n",
        "  return (x1,x2)\n",
        "\n",
        "(x1,x2) = getQuadraticSolution(1,5,6)\n",
        "print(\"The two solutions returned by getQuadraticSolution were x1 = {} and x2 = {}\".format(x1,x2))"
      ],
      "execution_count": null,
      "outputs": [
        {
          "output_type": "stream",
          "text": [
            "The two solutions returned by getQuadraticSolution were x1 = (-2+0j) and x2 = You need to write this line\n"
          ],
          "name": "stdout"
        }
      ]
    },
    {
      "cell_type": "markdown",
      "metadata": {
        "id": "UDOJG4OdN9gV"
      },
      "source": [
        "*Test your knowledge:* See if you can use a function to redo the first problem without so much cutting and pasting. I'll get you started"
      ]
    },
    {
      "cell_type": "code",
      "metadata": {
        "id": "5ozi5KXPN6Om",
        "outputId": "b6d4316f-2c35-4604-eba0-0b8fa8442cb9",
        "colab": {
          "base_uri": "https://localhost:8080/"
        }
      },
      "source": [
        "def ballHeightAndVelocity (h0, v0,g, t):\n",
        "  ## your code here\n",
        "  h = h0 + v0*t - 0.5*g*(t**2)\n",
        "  v = v0 - g*t\n",
        "  return (round(h,3),round(v,3))\n",
        "\n",
        "(h,v) = ballHeightAndVelocity(1.2, 5.4, 9.81, 0.5)\n",
        "print(\"After 0.5 seconds, the height and velocity of the ball are {} m and {}m/s respectively!\".format(h,v))\n",
        "\n",
        "(h,v) = ballHeightAndVelocity(1.2, 5.4, 9.81, 2)\n",
        "print(\"After 2 seconds, the height and velocity of the ball are {} m and {}m/s respectively!\".format(h,v))\n",
        "print(\"(assuming there is some sort of negative height to be acheived...)\")\n"
      ],
      "execution_count": 161,
      "outputs": [
        {
          "output_type": "stream",
          "name": "stdout",
          "text": [
            "After 0.5 seconds, the height and velocity of the ball are 2.674 m and 0.495m/s respectively!\n",
            "After 2 seconds, the height and velocity of the ball are -7.62 m and -14.22m/s respectively!\n",
            "(assuming there is some sort of negative height to be acheived...)\n"
          ]
        }
      ]
    },
    {
      "cell_type": "code",
      "source": [],
      "metadata": {
        "id": "s-OfV_Gl6He4"
      },
      "execution_count": null,
      "outputs": []
    }
  ]
}